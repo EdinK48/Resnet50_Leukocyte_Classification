{
  "nbformat": 4,
  "nbformat_minor": 0,
  "metadata": {
    "colab": {
      "provenance": [],
      "machine_shape": "hm",
      "gpuType": "T4",
      "authorship_tag": "ABX9TyOsvdHzOHXDkUkqVMDrgDJ4",
      "include_colab_link": true
    },
    "kernelspec": {
      "name": "python3",
      "display_name": "Python 3"
    },
    "language_info": {
      "name": "python"
    },
    "accelerator": "GPU"
  },
  "cells": [
    {
      "cell_type": "markdown",
      "metadata": {
        "id": "view-in-github",
        "colab_type": "text"
      },
      "source": [
        "<a href=\"https://colab.research.google.com/github/EdinK48/Resnet50_Leukocyte_Classification/blob/main/ResNet50.ipynb\" target=\"_parent\"><img src=\"https://colab.research.google.com/assets/colab-badge.svg\" alt=\"Open In Colab\"/></a>"
      ]
    },
    {
      "cell_type": "code",
      "execution_count": null,
      "metadata": {
        "id": "M6JCgOBLaBog"
      },
      "outputs": [],
      "source": [
        "from tensorflow.python.keras.models import Sequential\n",
        "from tensorflow.python.keras.layers import Dense, Flatten, Conv2D, Dropout, MaxPooling2D\n",
        "import tensorflow as tf\n",
        "import numpy as np\n",
        "from tensorflow.keras.preprocessing.image import ImageDataGenerator\n",
        "from tensorflow.keras.applications.vgg16 import VGG16\n",
        "from tensorflow.keras.applications.resnet50 import ResNet50, preprocess_input\n",
        "from os.path import isfile, join\n",
        "import os\n",
        "from tensorflow.keras.preprocessing.image import ImageDataGenerator\n",
        "import cv2\n",
        "import numpy as np\n",
        "import random"
      ]
    },
    {
      "cell_type": "code",
      "source": [
        "!wget -nc https://lazyprogrammer.me/course_files/blood_cell_images.zip"
      ],
      "metadata": {
        "id": "Zx7xIraza14e",
        "colab": {
          "base_uri": "https://localhost:8080/"
        },
        "outputId": "bb7305e4-784f-4a76-8a80-ac9b3e293605"
      },
      "execution_count": null,
      "outputs": [
        {
          "output_type": "stream",
          "name": "stdout",
          "text": [
            "--2023-09-05 18:37:07--  https://lazyprogrammer.me/course_files/blood_cell_images.zip\n",
            "Resolving lazyprogrammer.me (lazyprogrammer.me)... 104.21.23.210, 172.67.213.166, 2606:4700:3031::6815:17d2, ...\n",
            "Connecting to lazyprogrammer.me (lazyprogrammer.me)|104.21.23.210|:443... connected.\n",
            "HTTP request sent, awaiting response... 200 OK\n",
            "Length: 109834540 (105M) [application/zip]\n",
            "Saving to: ‘blood_cell_images.zip’\n",
            "\n",
            "blood_cell_images.z 100%[===================>] 104.75M  14.0MB/s    in 11s     \n",
            "\n",
            "2023-09-05 18:37:19 (9.72 MB/s) - ‘blood_cell_images.zip’ saved [109834540/109834540]\n",
            "\n"
          ]
        }
      ]
    },
    {
      "cell_type": "code",
      "source": [
        "!unzip -nq blood_cell_images.zip"
      ],
      "metadata": {
        "id": "ioCQkbUNbpNC"
      },
      "execution_count": null,
      "outputs": []
    },
    {
      "cell_type": "markdown",
      "source": [
        "## Prepare folder and files for retrievel - Training"
      ],
      "metadata": {
        "id": "jmeV4eoFHVmT"
      }
    },
    {
      "cell_type": "code",
      "source": [
        "training_path = \"/content/blood_cell_images/TRAIN\"\n",
        "os.chdir(training_path)\n",
        "train_sub_folders = []\n",
        "\n",
        "all_subdirs = [d for d in os.listdir('.') if os.path.isdir(d)]\n",
        "for dirs in all_subdirs:\n",
        "    dir = os.path.join(training_path, dirs)\n",
        "    os.chdir(dir)\n",
        "    current = os.getcwd()\n",
        "    train_sub_folders.append(current)\n",
        "\n",
        "\n",
        "train_files_path = []\n",
        "y_train = []\n",
        "for folder in train_sub_folders:\n",
        "  onlyfiles = [folder + \"/\" + f for f in os.listdir(folder) if isfile(join(folder, f))]\n",
        "  folder_name = folder.split(\"/\")[-1]\n",
        "  for i in range(0, len(onlyfiles)):\n",
        "    y_train.append(folder_name)\n",
        "  train_files_path.extend(onlyfiles)"
      ],
      "metadata": {
        "id": "-D1x0Ry0bxmS"
      },
      "execution_count": null,
      "outputs": []
    },
    {
      "cell_type": "markdown",
      "source": [
        "## Prepare folder and files for retrieval - Test"
      ],
      "metadata": {
        "id": "ezfGpKRTHdkg"
      }
    },
    {
      "cell_type": "code",
      "source": [
        "test_path = \"/content/blood_cell_images/TEST\"\n",
        "os.chdir(test_path)\n",
        "test_sub_folders = []\n",
        "all_subdirs = [d for d in os.listdir('.') if os.path.isdir(d)]\n",
        "\n",
        "for dirs in all_subdirs:\n",
        "    dir = os.path.join(test_path, dirs)\n",
        "    os.chdir(dir)\n",
        "    current = os.getcwd()\n",
        "    test_sub_folders.append(current)\n",
        "\n",
        "test_files_path = []\n",
        "y_test = []\n",
        "for folder in test_sub_folders:\n",
        "  onlyfiles = [folder + \"/\" + f for f in os.listdir(folder) if isfile(join(folder, f))]\n",
        "  folder_name = folder.split(\"/\")[-1]\n",
        "  for i in range(0, len(onlyfiles)):\n",
        "    y_test.append(folder_name)\n",
        "  test_files_path.extend(onlyfiles)"
      ],
      "metadata": {
        "id": "m8yXUxqshlyK"
      },
      "execution_count": null,
      "outputs": []
    },
    {
      "cell_type": "code",
      "source": [
        "\"\"\"\n",
        "import glob\n",
        "#print(glob.glob(train_sub_folders[0] + \"/*\"))\n",
        "test = glob.glob(train_sub_folders[0] + \"/*\")\n",
        "matching = [s for s in test if \"_0_1106\" in s]\n",
        "matching\n",
        "\"\"\""
      ],
      "metadata": {
        "colab": {
          "base_uri": "https://localhost:8080/",
          "height": 36
        },
        "id": "xlYH3jp0kuJX",
        "outputId": "fa63b779-1fba-44b5-d116-66b0c5b7e86d"
      },
      "execution_count": null,
      "outputs": [
        {
          "output_type": "execute_result",
          "data": {
            "text/plain": [
              "'\\nimport glob\\n#print(glob.glob(train_sub_folders[0] + \"/*\"))\\ntest = glob.glob(train_sub_folders[0] + \"/*\")\\nmatching = [s for s in test if \"_0_1106\" in s]\\nmatching\\n'"
            ],
            "application/vnd.google.colaboratory.intrinsic+json": {
              "type": "string"
            }
          },
          "metadata": {},
          "execution_count": 6
        }
      ]
    },
    {
      "cell_type": "code",
      "source": [
        "y_train_labels = []\n",
        "y_test_labels = []"
      ],
      "metadata": {
        "id": "0A168YildLb8"
      },
      "execution_count": null,
      "outputs": []
    },
    {
      "cell_type": "markdown",
      "source": [
        "## Read training data"
      ],
      "metadata": {
        "id": "YkWM7FoYHqPu"
      }
    },
    {
      "cell_type": "code",
      "source": [
        "training_set = np.zeros(shape=(1,240,320, 3)).astype(np.uint8)\n",
        "container = np.zeros(shape=(1,240,320,3)).astype(np.uint8)\n",
        "end = len(train_files_path)\n",
        "train_data = []\n",
        "for i in range(end):\n",
        "  if i == 0:\n",
        "    # cv2.imread(train_files_path[i], cv2.IMREAD_COLOR,).astype(np.float32)\n",
        "    train_data.append(cv2.cvtColor(cv2.imread(train_files_path[i]), cv2.COLOR_BGR2RGB).astype(np.uint8))\n",
        "    y_train_labels.append(y_train[i])\n",
        "    train_files_path.remove(train_files_path[i])\n",
        "    y_train.remove(y_train[i])\n",
        "  else:\n",
        "    index = random.randint(0, len(train_files_path)-1)\n",
        "    train_data.append(cv2.cvtColor(cv2.imread(train_files_path[index]), cv2.COLOR_BGR2RGB).astype(np.uint8))\n",
        "    y_train_labels.append(y_train[index])\n",
        "    train_files_path.remove(train_files_path[index])\n",
        "    y_train.remove(y_train[index])"
      ],
      "metadata": {
        "id": "QTwzyueUvTap"
      },
      "execution_count": null,
      "outputs": []
    },
    {
      "cell_type": "markdown",
      "source": [
        "## Read test data"
      ],
      "metadata": {
        "id": "2WM6umyVH2iH"
      }
    },
    {
      "cell_type": "code",
      "source": [
        "test_data = []\n",
        "end = len(test_files_path)\n",
        "for i in range(end):\n",
        "  if i == 0:\n",
        "    test_data.append(cv2.cvtColor(cv2.imread(test_files_path[i]), cv2.COLOR_BGR2RGB).astype(np.uint8))\n",
        "    y_test_labels.append(y_test[i])\n",
        "    test_files_path.remove(test_files_path[i])\n",
        "    y_test.remove(y_test[i])\n",
        "  else:\n",
        "    index = random.randint(0, len(test_files_path)-1)\n",
        "    test_data.append(cv2.cvtColor(cv2.imread(test_files_path[index]), cv2.COLOR_BGR2RGB).astype(np.uint8))\n",
        "    y_test_labels.append(y_test[index])\n",
        "    test_files_path.remove(test_files_path[index])\n",
        "    y_test.remove(y_test[index])"
      ],
      "metadata": {
        "id": "sCdSo0F1H5zA"
      },
      "execution_count": null,
      "outputs": []
    },
    {
      "cell_type": "code",
      "source": [
        "train_data = np.asarray(train_data, dtype=np.float16)\n",
        "test_data = np.asarray(test_data, dtype=np.float16)"
      ],
      "metadata": {
        "id": "OGilK2r5DtcX"
      },
      "execution_count": null,
      "outputs": []
    },
    {
      "cell_type": "code",
      "source": [
        "print(train_data.shape, test_data.shape)"
      ],
      "metadata": {
        "colab": {
          "base_uri": "https://localhost:8080/"
        },
        "id": "jKmg0RSxijHu",
        "outputId": "054ff5d8-33c6-451d-8556-e41ff17f3906"
      },
      "execution_count": null,
      "outputs": [
        {
          "output_type": "stream",
          "name": "stdout",
          "text": [
            "(9957, 240, 320, 3) (2487, 240, 320, 3)\n"
          ]
        }
      ]
    },
    {
      "cell_type": "code",
      "source": [
        "print(len(y_train_labels), len(y_test_labels))"
      ],
      "metadata": {
        "colab": {
          "base_uri": "https://localhost:8080/"
        },
        "id": "ebt1Yv2nGlS3",
        "outputId": "c6f5c6c8-6910-40f0-b09a-435ca04d9162"
      },
      "execution_count": null,
      "outputs": [
        {
          "output_type": "stream",
          "name": "stdout",
          "text": [
            "9957 2487\n"
          ]
        }
      ]
    },
    {
      "cell_type": "code",
      "source": [
        "from sklearn import preprocessing\n",
        "le = preprocessing.LabelEncoder()\n",
        "\n",
        "y_train_labels = le.fit_transform(y_train_labels)\n",
        "y_test_labels = le.transform(y_test_labels)"
      ],
      "metadata": {
        "id": "t615VxImjp0k"
      },
      "execution_count": null,
      "outputs": []
    },
    {
      "cell_type": "code",
      "source": [
        "y_train_labels = np.asarray(y_train_labels, dtype=np.float16)\n",
        "y_test_labels = np.asarray(y_test_labels, dtype=np.float16)"
      ],
      "metadata": {
        "id": "bBKDdEXStVmo"
      },
      "execution_count": null,
      "outputs": []
    },
    {
      "cell_type": "code",
      "source": [
        "y_train_labels.shape"
      ],
      "metadata": {
        "colab": {
          "base_uri": "https://localhost:8080/"
        },
        "id": "c4Gi6dKOVSh1",
        "outputId": "8cd81226-25da-4a4c-e240-2b01e02b4b9f"
      },
      "execution_count": null,
      "outputs": [
        {
          "output_type": "execute_result",
          "data": {
            "text/plain": [
              "(9957,)"
            ]
          },
          "metadata": {},
          "execution_count": 15
        }
      ]
    },
    {
      "cell_type": "code",
      "source": [
        "np.unique(y_test_labels)"
      ],
      "metadata": {
        "colab": {
          "base_uri": "https://localhost:8080/"
        },
        "id": "vMvZsLT6kkoY",
        "outputId": "367bb390-e41a-47cc-80ac-be54a50e32bc"
      },
      "execution_count": null,
      "outputs": [
        {
          "output_type": "execute_result",
          "data": {
            "text/plain": [
              "array([0., 1., 2., 3.], dtype=float16)"
            ]
          },
          "metadata": {},
          "execution_count": 16
        }
      ]
    },
    {
      "cell_type": "code",
      "source": [
        "train_data_scaled = (train_data / 127.5) - 1\n",
        "test_data_scaled = (test_data / 127.5) -1"
      ],
      "metadata": {
        "id": "rfiyUsQlkkfz"
      },
      "execution_count": null,
      "outputs": []
    },
    {
      "cell_type": "code",
      "source": [
        "def identity_block(X, f, filters, stage, block):\n",
        "\n",
        "    conv_name_base = 'res' + str(stage) + block + '_branch'\n",
        "    bn_name_base = 'bn' + str(stage) + block + '_branch'\n",
        "    F1, F2, F3 = filters\n",
        "\n",
        "    X_shortcut = X\n",
        "\n",
        "    X = Conv2D(filters=F1, kernel_size=(1, 1), strides=(1, 1), padding='valid', name=conv_name_base + '2a', kernel_initializer=tf.keras.initializers.glorot_uniform(seed=0))(X)\n",
        "    X = tf.keras.layers.BatchNormalization(axis=3, name=bn_name_base + '2a')(X)\n",
        "    X = tf.keras.layers.Activation('relu')(X)\n",
        "\n",
        "    X = Conv2D(filters=F2, kernel_size=(f, f), strides=(1, 1), padding='same', name=conv_name_base + '2b', kernel_initializer=tf.keras.initializers.glorot_uniform(seed=0))(X)\n",
        "    X = tf.keras.layers.BatchNormalization(axis=3, name=bn_name_base + '2b')(X)\n",
        "    X = tf.keras.layers.Activation('relu')(X)\n",
        "\n",
        "    X = Conv2D(filters=F3, kernel_size=(1, 1), strides=(1, 1), padding='valid', name=conv_name_base + '2c', kernel_initializer=tf.keras.initializers.glorot_uniform(seed=0))(X)\n",
        "    X = tf.keras.layers.BatchNormalization(axis=3, name=bn_name_base + '2c')(X)\n",
        "    #X = tf.math.add()([X, X_shortcut])# SKIP Connection\n",
        "    X = tf.math.add(X, X_shortcut)\n",
        "    X = tf.keras.layers.Activation('relu')(X)\n",
        "\n",
        "    return X"
      ],
      "metadata": {
        "id": "Y9_59wxLwSfl"
      },
      "execution_count": 26,
      "outputs": []
    },
    {
      "cell_type": "code",
      "source": [
        "def convolutional_block(X, f, filters, stage, block, s=2):\n",
        "\n",
        "    conv_name_base = 'res' + str(stage) + block + '_branch'\n",
        "    bn_name_base = 'bn' + str(stage) + block + '_branch'\n",
        "\n",
        "    F1, F2, F3 = filters\n",
        "\n",
        "    X_shortcut = X\n",
        "\n",
        "    X = Conv2D(filters=F1, kernel_size=(1, 1), strides=(s, s), padding='valid', name=conv_name_base + '2a', kernel_initializer=tf.keras.initializers.glorot_uniform(seed=0))(X)\n",
        "    X = tf.keras.layers.BatchNormalization(axis=3, name=bn_name_base + '2a')(X)\n",
        "    X = tf.keras.layers.Activation('relu')(X)\n",
        "\n",
        "    X = Conv2D(filters=F2, kernel_size=(f, f), strides=(1, 1), padding='same', name=conv_name_base + '2b', kernel_initializer=tf.keras.initializers.glorot_uniform(seed=0))(X)\n",
        "    X = tf.keras.layers.BatchNormalization(axis=3, name=bn_name_base + '2b')(X)\n",
        "    X = tf.keras.layers.Activation('relu')(X)\n",
        "\n",
        "    X = Conv2D(filters=F3, kernel_size=(1, 1), strides=(1, 1), padding='valid', name=conv_name_base + '2c', kernel_initializer=tf.keras.initializers.glorot_uniform(seed=0))(X)\n",
        "    X = tf.keras.layers.BatchNormalization(axis=3, name=bn_name_base + '2c')(X)\n",
        "\n",
        "    X_shortcut = Conv2D(filters=F3, kernel_size=(1, 1), strides=(s, s), padding='valid', name=conv_name_base + '1', kernel_initializer=tf.keras.initializers.glorot_uniform(seed=0))(X_shortcut)\n",
        "    X_shortcut = tf.keras.layers.BatchNormalization(axis=3, name=bn_name_base + '1')(X_shortcut)\n",
        "\n",
        "    # X = tf.math.add()([X, X_shortcut])\n",
        "    X = tf.math.add(X, X_shortcut)\n",
        "    X = tf.keras.layers.Activation('relu')(X)\n",
        "\n",
        "    return X"
      ],
      "metadata": {
        "id": "G8NPSGU6-oJq"
      },
      "execution_count": 27,
      "outputs": []
    },
    {
      "cell_type": "code",
      "source": [
        "train_data.shape[1:]"
      ],
      "metadata": {
        "colab": {
          "base_uri": "https://localhost:8080/"
        },
        "id": "fm0I10AWM1HM",
        "outputId": "86db5474-b696-465a-c67d-0fdc68a9d92b"
      },
      "execution_count": null,
      "outputs": [
        {
          "output_type": "execute_result",
          "data": {
            "text/plain": [
              "(240, 320, 3)"
            ]
          },
          "metadata": {},
          "execution_count": 20
        }
      ]
    },
    {
      "cell_type": "code",
      "source": [
        "# input_shape=(224, 224, 3)\n",
        "def ResNet50(input_shape):\n",
        "\n",
        "    X_input = tf.keras.layers.Input(input_shape)\n",
        "\n",
        "    X = tf.keras.layers.ZeroPadding2D((3, 3))(X_input)\n",
        "\n",
        "    X = Conv2D(64, (7, 7), strides=(2, 2), name='conv1', kernel_initializer=tf.keras.initializers.glorot_uniform(seed=0))(X)\n",
        "    X = tf.keras.layers.BatchNormalization(axis=3, name='bn_conv1')(X)\n",
        "    X = tf.keras.layers.Activation('relu')(X)\n",
        "    X = MaxPooling2D((3, 3), strides=(2, 2))(X)\n",
        "\n",
        "    X = convolutional_block(X, f=3, filters=[64, 64, 256], stage=2, block='a', s=1)\n",
        "    X = identity_block(X, 3, [64, 64, 256], stage=2, block='b')\n",
        "    X = identity_block(X, 3, [64, 64, 256], stage=2, block='c')\n",
        "\n",
        "\n",
        "    X = convolutional_block(X, f=3, filters=[128, 128, 512], stage=3, block='a', s=2)\n",
        "    X = identity_block(X, 3, [128, 128, 512], stage=3, block='b')\n",
        "    X = identity_block(X, 3, [128, 128, 512], stage=3, block='c')\n",
        "    X = identity_block(X, 3, [128, 128, 512], stage=3, block='d')\n",
        "    X = convolutional_block(X, f=3, filters=[256, 256, 1024], stage=4, block='a', s=2)\n",
        "    X = identity_block(X, 3, [256, 256, 1024], stage=4, block='b')\n",
        "    X = identity_block(X, 3, [256, 256, 1024], stage=4, block='c')\n",
        "    X = identity_block(X, 3, [256, 256, 1024], stage=4, block='d')\n",
        "    X = identity_block(X, 3, [256, 256, 1024], stage=4, block='e')\n",
        "    X = identity_block(X, 3, [256, 256, 1024], stage=4, block='f')\n",
        "\n",
        "    X = convolutional_block(X, f=3, filters=[512, 512, 2048], stage=5, block='a', s=2)\n",
        "    X = identity_block(X, 3, [512, 512, 2048], stage=5, block='b')\n",
        "    X = identity_block(X, 3, [512, 512, 2048], stage=5, block='c')\n",
        "\n",
        "    X = tf.keras.layers.AveragePooling2D(pool_size=(2, 2), padding='same')(X)\n",
        "    # ---- New stuff --- #\n",
        "    #X = Flatten()(X)\n",
        "    X = tf.keras.layers.Flatten()(X)\n",
        "    X = tf.keras.layers.Dense(256, activation='relu', name='fc1',kernel_initializer=tf.keras.initializers.glorot_uniform(seed=0))(X)\n",
        "    x = tf.keras.layers.Dense(128, activation='relu', name='fc2',kernel_initializer=tf.keras.initializers.glorot_uniform(seed=0))(X)\n",
        "    X = tf.keras.layers.Dense(4, activation='softmax', name='fc3',kernel_initializer=tf.keras.initializers.glorot_uniform(seed=0))(X)\n",
        "    # ---- New stuff --- #\n",
        "    model = tf.keras.Model(inputs=X_input, outputs=X, name='ResNet50')\n",
        "\n",
        "\n",
        "    return model\n",
        "\n",
        "model = ResNet50(input_shape=train_data.shape[1:])"
      ],
      "metadata": {
        "colab": {
          "base_uri": "https://localhost:8080/"
        },
        "id": "j0cGtThMAFPD",
        "outputId": "f54a8724-f176-4fe3-8ec2-af9f9f01e5f1"
      },
      "execution_count": 28,
      "outputs": [
        {
          "output_type": "stream",
          "name": "stderr",
          "text": [
            "WARNING:tensorflow:The following Variables were used in a Lambda layer's call (tf.nn.convolution_53), but are not present in its tracked objects:   <tf.Variable 'conv1/kernel:0' shape=(7, 7, 3, 64) dtype=float32>. This is a strong indication that the Lambda layer should be rewritten as a subclassed Layer.\n",
            "WARNING:tensorflow:The following Variables were used in a Lambda layer's call (tf.nn.bias_add_53), but are not present in its tracked objects:   <tf.Variable 'conv1/bias:0' shape=(64,) dtype=float32>. This is a strong indication that the Lambda layer should be rewritten as a subclassed Layer.\n",
            "WARNING:tensorflow:The following Variables were used in a Lambda layer's call (tf.nn.convolution_54), but are not present in its tracked objects:   <tf.Variable 'res2a_branch2a/kernel:0' shape=(1, 1, 64, 64) dtype=float32>. This is a strong indication that the Lambda layer should be rewritten as a subclassed Layer.\n",
            "WARNING:tensorflow:The following Variables were used in a Lambda layer's call (tf.nn.bias_add_54), but are not present in its tracked objects:   <tf.Variable 'res2a_branch2a/bias:0' shape=(64,) dtype=float32>. This is a strong indication that the Lambda layer should be rewritten as a subclassed Layer.\n",
            "WARNING:tensorflow:The following Variables were used in a Lambda layer's call (tf.nn.convolution_55), but are not present in its tracked objects:   <tf.Variable 'res2a_branch2b/kernel:0' shape=(3, 3, 64, 64) dtype=float32>. This is a strong indication that the Lambda layer should be rewritten as a subclassed Layer.\n",
            "WARNING:tensorflow:The following Variables were used in a Lambda layer's call (tf.nn.bias_add_55), but are not present in its tracked objects:   <tf.Variable 'res2a_branch2b/bias:0' shape=(64,) dtype=float32>. This is a strong indication that the Lambda layer should be rewritten as a subclassed Layer.\n",
            "WARNING:tensorflow:The following Variables were used in a Lambda layer's call (tf.nn.convolution_56), but are not present in its tracked objects:   <tf.Variable 'res2a_branch2c/kernel:0' shape=(1, 1, 64, 256) dtype=float32>. This is a strong indication that the Lambda layer should be rewritten as a subclassed Layer.\n",
            "WARNING:tensorflow:The following Variables were used in a Lambda layer's call (tf.nn.bias_add_56), but are not present in its tracked objects:   <tf.Variable 'res2a_branch2c/bias:0' shape=(256,) dtype=float32>. This is a strong indication that the Lambda layer should be rewritten as a subclassed Layer.\n",
            "WARNING:tensorflow:The following Variables were used in a Lambda layer's call (tf.nn.convolution_57), but are not present in its tracked objects:   <tf.Variable 'res2a_branch1/kernel:0' shape=(1, 1, 64, 256) dtype=float32>. This is a strong indication that the Lambda layer should be rewritten as a subclassed Layer.\n",
            "WARNING:tensorflow:The following Variables were used in a Lambda layer's call (tf.nn.bias_add_57), but are not present in its tracked objects:   <tf.Variable 'res2a_branch1/bias:0' shape=(256,) dtype=float32>. This is a strong indication that the Lambda layer should be rewritten as a subclassed Layer.\n",
            "WARNING:tensorflow:The following Variables were used in a Lambda layer's call (tf.nn.convolution_58), but are not present in its tracked objects:   <tf.Variable 'res2b_branch2a/kernel:0' shape=(1, 1, 256, 64) dtype=float32>. This is a strong indication that the Lambda layer should be rewritten as a subclassed Layer.\n",
            "WARNING:tensorflow:The following Variables were used in a Lambda layer's call (tf.nn.bias_add_58), but are not present in its tracked objects:   <tf.Variable 'res2b_branch2a/bias:0' shape=(64,) dtype=float32>. This is a strong indication that the Lambda layer should be rewritten as a subclassed Layer.\n",
            "WARNING:tensorflow:The following Variables were used in a Lambda layer's call (tf.nn.convolution_59), but are not present in its tracked objects:   <tf.Variable 'res2b_branch2b/kernel:0' shape=(3, 3, 64, 64) dtype=float32>. This is a strong indication that the Lambda layer should be rewritten as a subclassed Layer.\n",
            "WARNING:tensorflow:The following Variables were used in a Lambda layer's call (tf.nn.bias_add_59), but are not present in its tracked objects:   <tf.Variable 'res2b_branch2b/bias:0' shape=(64,) dtype=float32>. This is a strong indication that the Lambda layer should be rewritten as a subclassed Layer.\n",
            "WARNING:tensorflow:The following Variables were used in a Lambda layer's call (tf.nn.convolution_60), but are not present in its tracked objects:   <tf.Variable 'res2b_branch2c/kernel:0' shape=(1, 1, 64, 256) dtype=float32>. This is a strong indication that the Lambda layer should be rewritten as a subclassed Layer.\n",
            "WARNING:tensorflow:The following Variables were used in a Lambda layer's call (tf.nn.bias_add_60), but are not present in its tracked objects:   <tf.Variable 'res2b_branch2c/bias:0' shape=(256,) dtype=float32>. This is a strong indication that the Lambda layer should be rewritten as a subclassed Layer.\n",
            "WARNING:tensorflow:The following Variables were used in a Lambda layer's call (tf.nn.convolution_61), but are not present in its tracked objects:   <tf.Variable 'res2c_branch2a/kernel:0' shape=(1, 1, 256, 64) dtype=float32>. This is a strong indication that the Lambda layer should be rewritten as a subclassed Layer.\n",
            "WARNING:tensorflow:The following Variables were used in a Lambda layer's call (tf.nn.bias_add_61), but are not present in its tracked objects:   <tf.Variable 'res2c_branch2a/bias:0' shape=(64,) dtype=float32>. This is a strong indication that the Lambda layer should be rewritten as a subclassed Layer.\n",
            "WARNING:tensorflow:The following Variables were used in a Lambda layer's call (tf.nn.convolution_62), but are not present in its tracked objects:   <tf.Variable 'res2c_branch2b/kernel:0' shape=(3, 3, 64, 64) dtype=float32>. This is a strong indication that the Lambda layer should be rewritten as a subclassed Layer.\n",
            "WARNING:tensorflow:The following Variables were used in a Lambda layer's call (tf.nn.bias_add_62), but are not present in its tracked objects:   <tf.Variable 'res2c_branch2b/bias:0' shape=(64,) dtype=float32>. This is a strong indication that the Lambda layer should be rewritten as a subclassed Layer.\n",
            "WARNING:tensorflow:The following Variables were used in a Lambda layer's call (tf.nn.convolution_63), but are not present in its tracked objects:   <tf.Variable 'res2c_branch2c/kernel:0' shape=(1, 1, 64, 256) dtype=float32>. This is a strong indication that the Lambda layer should be rewritten as a subclassed Layer.\n",
            "WARNING:tensorflow:The following Variables were used in a Lambda layer's call (tf.nn.bias_add_63), but are not present in its tracked objects:   <tf.Variable 'res2c_branch2c/bias:0' shape=(256,) dtype=float32>. This is a strong indication that the Lambda layer should be rewritten as a subclassed Layer.\n",
            "WARNING:tensorflow:The following Variables were used in a Lambda layer's call (tf.nn.convolution_64), but are not present in its tracked objects:   <tf.Variable 'res3a_branch2a/kernel:0' shape=(1, 1, 256, 128) dtype=float32>. This is a strong indication that the Lambda layer should be rewritten as a subclassed Layer.\n",
            "WARNING:tensorflow:The following Variables were used in a Lambda layer's call (tf.nn.bias_add_64), but are not present in its tracked objects:   <tf.Variable 'res3a_branch2a/bias:0' shape=(128,) dtype=float32>. This is a strong indication that the Lambda layer should be rewritten as a subclassed Layer.\n",
            "WARNING:tensorflow:The following Variables were used in a Lambda layer's call (tf.nn.convolution_65), but are not present in its tracked objects:   <tf.Variable 'res3a_branch2b/kernel:0' shape=(3, 3, 128, 128) dtype=float32>. This is a strong indication that the Lambda layer should be rewritten as a subclassed Layer.\n",
            "WARNING:tensorflow:The following Variables were used in a Lambda layer's call (tf.nn.bias_add_65), but are not present in its tracked objects:   <tf.Variable 'res3a_branch2b/bias:0' shape=(128,) dtype=float32>. This is a strong indication that the Lambda layer should be rewritten as a subclassed Layer.\n",
            "WARNING:tensorflow:The following Variables were used in a Lambda layer's call (tf.nn.convolution_66), but are not present in its tracked objects:   <tf.Variable 'res3a_branch2c/kernel:0' shape=(1, 1, 128, 512) dtype=float32>. This is a strong indication that the Lambda layer should be rewritten as a subclassed Layer.\n",
            "WARNING:tensorflow:The following Variables were used in a Lambda layer's call (tf.nn.bias_add_66), but are not present in its tracked objects:   <tf.Variable 'res3a_branch2c/bias:0' shape=(512,) dtype=float32>. This is a strong indication that the Lambda layer should be rewritten as a subclassed Layer.\n",
            "WARNING:tensorflow:The following Variables were used in a Lambda layer's call (tf.nn.convolution_67), but are not present in its tracked objects:   <tf.Variable 'res3a_branch1/kernel:0' shape=(1, 1, 256, 512) dtype=float32>. This is a strong indication that the Lambda layer should be rewritten as a subclassed Layer.\n",
            "WARNING:tensorflow:The following Variables were used in a Lambda layer's call (tf.nn.bias_add_67), but are not present in its tracked objects:   <tf.Variable 'res3a_branch1/bias:0' shape=(512,) dtype=float32>. This is a strong indication that the Lambda layer should be rewritten as a subclassed Layer.\n",
            "WARNING:tensorflow:The following Variables were used in a Lambda layer's call (tf.nn.convolution_68), but are not present in its tracked objects:   <tf.Variable 'res3b_branch2a/kernel:0' shape=(1, 1, 512, 128) dtype=float32>. This is a strong indication that the Lambda layer should be rewritten as a subclassed Layer.\n",
            "WARNING:tensorflow:The following Variables were used in a Lambda layer's call (tf.nn.bias_add_68), but are not present in its tracked objects:   <tf.Variable 'res3b_branch2a/bias:0' shape=(128,) dtype=float32>. This is a strong indication that the Lambda layer should be rewritten as a subclassed Layer.\n",
            "WARNING:tensorflow:The following Variables were used in a Lambda layer's call (tf.nn.convolution_69), but are not present in its tracked objects:   <tf.Variable 'res3b_branch2b/kernel:0' shape=(3, 3, 128, 128) dtype=float32>. This is a strong indication that the Lambda layer should be rewritten as a subclassed Layer.\n",
            "WARNING:tensorflow:The following Variables were used in a Lambda layer's call (tf.nn.bias_add_69), but are not present in its tracked objects:   <tf.Variable 'res3b_branch2b/bias:0' shape=(128,) dtype=float32>. This is a strong indication that the Lambda layer should be rewritten as a subclassed Layer.\n",
            "WARNING:tensorflow:The following Variables were used in a Lambda layer's call (tf.nn.convolution_70), but are not present in its tracked objects:   <tf.Variable 'res3b_branch2c/kernel:0' shape=(1, 1, 128, 512) dtype=float32>. This is a strong indication that the Lambda layer should be rewritten as a subclassed Layer.\n",
            "WARNING:tensorflow:The following Variables were used in a Lambda layer's call (tf.nn.bias_add_70), but are not present in its tracked objects:   <tf.Variable 'res3b_branch2c/bias:0' shape=(512,) dtype=float32>. This is a strong indication that the Lambda layer should be rewritten as a subclassed Layer.\n",
            "WARNING:tensorflow:The following Variables were used in a Lambda layer's call (tf.nn.convolution_71), but are not present in its tracked objects:   <tf.Variable 'res3c_branch2a/kernel:0' shape=(1, 1, 512, 128) dtype=float32>. This is a strong indication that the Lambda layer should be rewritten as a subclassed Layer.\n",
            "WARNING:tensorflow:The following Variables were used in a Lambda layer's call (tf.nn.bias_add_71), but are not present in its tracked objects:   <tf.Variable 'res3c_branch2a/bias:0' shape=(128,) dtype=float32>. This is a strong indication that the Lambda layer should be rewritten as a subclassed Layer.\n",
            "WARNING:tensorflow:The following Variables were used in a Lambda layer's call (tf.nn.convolution_72), but are not present in its tracked objects:   <tf.Variable 'res3c_branch2b/kernel:0' shape=(3, 3, 128, 128) dtype=float32>. This is a strong indication that the Lambda layer should be rewritten as a subclassed Layer.\n",
            "WARNING:tensorflow:The following Variables were used in a Lambda layer's call (tf.nn.bias_add_72), but are not present in its tracked objects:   <tf.Variable 'res3c_branch2b/bias:0' shape=(128,) dtype=float32>. This is a strong indication that the Lambda layer should be rewritten as a subclassed Layer.\n",
            "WARNING:tensorflow:The following Variables were used in a Lambda layer's call (tf.nn.convolution_73), but are not present in its tracked objects:   <tf.Variable 'res3c_branch2c/kernel:0' shape=(1, 1, 128, 512) dtype=float32>. This is a strong indication that the Lambda layer should be rewritten as a subclassed Layer.\n",
            "WARNING:tensorflow:The following Variables were used in a Lambda layer's call (tf.nn.bias_add_73), but are not present in its tracked objects:   <tf.Variable 'res3c_branch2c/bias:0' shape=(512,) dtype=float32>. This is a strong indication that the Lambda layer should be rewritten as a subclassed Layer.\n",
            "WARNING:tensorflow:The following Variables were used in a Lambda layer's call (tf.nn.convolution_74), but are not present in its tracked objects:   <tf.Variable 'res3d_branch2a/kernel:0' shape=(1, 1, 512, 128) dtype=float32>. This is a strong indication that the Lambda layer should be rewritten as a subclassed Layer.\n",
            "WARNING:tensorflow:The following Variables were used in a Lambda layer's call (tf.nn.bias_add_74), but are not present in its tracked objects:   <tf.Variable 'res3d_branch2a/bias:0' shape=(128,) dtype=float32>. This is a strong indication that the Lambda layer should be rewritten as a subclassed Layer.\n",
            "WARNING:tensorflow:The following Variables were used in a Lambda layer's call (tf.nn.convolution_75), but are not present in its tracked objects:   <tf.Variable 'res3d_branch2b/kernel:0' shape=(3, 3, 128, 128) dtype=float32>. This is a strong indication that the Lambda layer should be rewritten as a subclassed Layer.\n",
            "WARNING:tensorflow:The following Variables were used in a Lambda layer's call (tf.nn.bias_add_75), but are not present in its tracked objects:   <tf.Variable 'res3d_branch2b/bias:0' shape=(128,) dtype=float32>. This is a strong indication that the Lambda layer should be rewritten as a subclassed Layer.\n",
            "WARNING:tensorflow:The following Variables were used in a Lambda layer's call (tf.nn.convolution_76), but are not present in its tracked objects:   <tf.Variable 'res3d_branch2c/kernel:0' shape=(1, 1, 128, 512) dtype=float32>. This is a strong indication that the Lambda layer should be rewritten as a subclassed Layer.\n",
            "WARNING:tensorflow:The following Variables were used in a Lambda layer's call (tf.nn.bias_add_76), but are not present in its tracked objects:   <tf.Variable 'res3d_branch2c/bias:0' shape=(512,) dtype=float32>. This is a strong indication that the Lambda layer should be rewritten as a subclassed Layer.\n",
            "WARNING:tensorflow:The following Variables were used in a Lambda layer's call (tf.nn.convolution_77), but are not present in its tracked objects:   <tf.Variable 'res4a_branch2a/kernel:0' shape=(1, 1, 512, 256) dtype=float32>. This is a strong indication that the Lambda layer should be rewritten as a subclassed Layer.\n",
            "WARNING:tensorflow:The following Variables were used in a Lambda layer's call (tf.nn.bias_add_77), but are not present in its tracked objects:   <tf.Variable 'res4a_branch2a/bias:0' shape=(256,) dtype=float32>. This is a strong indication that the Lambda layer should be rewritten as a subclassed Layer.\n",
            "WARNING:tensorflow:The following Variables were used in a Lambda layer's call (tf.nn.convolution_78), but are not present in its tracked objects:   <tf.Variable 'res4a_branch2b/kernel:0' shape=(3, 3, 256, 256) dtype=float32>. This is a strong indication that the Lambda layer should be rewritten as a subclassed Layer.\n",
            "WARNING:tensorflow:The following Variables were used in a Lambda layer's call (tf.nn.bias_add_78), but are not present in its tracked objects:   <tf.Variable 'res4a_branch2b/bias:0' shape=(256,) dtype=float32>. This is a strong indication that the Lambda layer should be rewritten as a subclassed Layer.\n",
            "WARNING:tensorflow:The following Variables were used in a Lambda layer's call (tf.nn.convolution_79), but are not present in its tracked objects:   <tf.Variable 'res4a_branch2c/kernel:0' shape=(1, 1, 256, 1024) dtype=float32>. This is a strong indication that the Lambda layer should be rewritten as a subclassed Layer.\n",
            "WARNING:tensorflow:The following Variables were used in a Lambda layer's call (tf.nn.bias_add_79), but are not present in its tracked objects:   <tf.Variable 'res4a_branch2c/bias:0' shape=(1024,) dtype=float32>. This is a strong indication that the Lambda layer should be rewritten as a subclassed Layer.\n",
            "WARNING:tensorflow:The following Variables were used in a Lambda layer's call (tf.nn.convolution_80), but are not present in its tracked objects:   <tf.Variable 'res4a_branch1/kernel:0' shape=(1, 1, 512, 1024) dtype=float32>. This is a strong indication that the Lambda layer should be rewritten as a subclassed Layer.\n",
            "WARNING:tensorflow:The following Variables were used in a Lambda layer's call (tf.nn.bias_add_80), but are not present in its tracked objects:   <tf.Variable 'res4a_branch1/bias:0' shape=(1024,) dtype=float32>. This is a strong indication that the Lambda layer should be rewritten as a subclassed Layer.\n",
            "WARNING:tensorflow:The following Variables were used in a Lambda layer's call (tf.nn.convolution_81), but are not present in its tracked objects:   <tf.Variable 'res4b_branch2a/kernel:0' shape=(1, 1, 1024, 256) dtype=float32>. This is a strong indication that the Lambda layer should be rewritten as a subclassed Layer.\n",
            "WARNING:tensorflow:The following Variables were used in a Lambda layer's call (tf.nn.bias_add_81), but are not present in its tracked objects:   <tf.Variable 'res4b_branch2a/bias:0' shape=(256,) dtype=float32>. This is a strong indication that the Lambda layer should be rewritten as a subclassed Layer.\n",
            "WARNING:tensorflow:The following Variables were used in a Lambda layer's call (tf.nn.convolution_82), but are not present in its tracked objects:   <tf.Variable 'res4b_branch2b/kernel:0' shape=(3, 3, 256, 256) dtype=float32>. This is a strong indication that the Lambda layer should be rewritten as a subclassed Layer.\n",
            "WARNING:tensorflow:The following Variables were used in a Lambda layer's call (tf.nn.bias_add_82), but are not present in its tracked objects:   <tf.Variable 'res4b_branch2b/bias:0' shape=(256,) dtype=float32>. This is a strong indication that the Lambda layer should be rewritten as a subclassed Layer.\n",
            "WARNING:tensorflow:The following Variables were used in a Lambda layer's call (tf.nn.convolution_83), but are not present in its tracked objects:   <tf.Variable 'res4b_branch2c/kernel:0' shape=(1, 1, 256, 1024) dtype=float32>. This is a strong indication that the Lambda layer should be rewritten as a subclassed Layer.\n",
            "WARNING:tensorflow:The following Variables were used in a Lambda layer's call (tf.nn.bias_add_83), but are not present in its tracked objects:   <tf.Variable 'res4b_branch2c/bias:0' shape=(1024,) dtype=float32>. This is a strong indication that the Lambda layer should be rewritten as a subclassed Layer.\n",
            "WARNING:tensorflow:The following Variables were used in a Lambda layer's call (tf.nn.convolution_84), but are not present in its tracked objects:   <tf.Variable 'res4c_branch2a/kernel:0' shape=(1, 1, 1024, 256) dtype=float32>. This is a strong indication that the Lambda layer should be rewritten as a subclassed Layer.\n",
            "WARNING:tensorflow:The following Variables were used in a Lambda layer's call (tf.nn.bias_add_84), but are not present in its tracked objects:   <tf.Variable 'res4c_branch2a/bias:0' shape=(256,) dtype=float32>. This is a strong indication that the Lambda layer should be rewritten as a subclassed Layer.\n",
            "WARNING:tensorflow:The following Variables were used in a Lambda layer's call (tf.nn.convolution_85), but are not present in its tracked objects:   <tf.Variable 'res4c_branch2b/kernel:0' shape=(3, 3, 256, 256) dtype=float32>. This is a strong indication that the Lambda layer should be rewritten as a subclassed Layer.\n",
            "WARNING:tensorflow:The following Variables were used in a Lambda layer's call (tf.nn.bias_add_85), but are not present in its tracked objects:   <tf.Variable 'res4c_branch2b/bias:0' shape=(256,) dtype=float32>. This is a strong indication that the Lambda layer should be rewritten as a subclassed Layer.\n",
            "WARNING:tensorflow:The following Variables were used in a Lambda layer's call (tf.nn.convolution_86), but are not present in its tracked objects:   <tf.Variable 'res4c_branch2c/kernel:0' shape=(1, 1, 256, 1024) dtype=float32>. This is a strong indication that the Lambda layer should be rewritten as a subclassed Layer.\n",
            "WARNING:tensorflow:The following Variables were used in a Lambda layer's call (tf.nn.bias_add_86), but are not present in its tracked objects:   <tf.Variable 'res4c_branch2c/bias:0' shape=(1024,) dtype=float32>. This is a strong indication that the Lambda layer should be rewritten as a subclassed Layer.\n",
            "WARNING:tensorflow:The following Variables were used in a Lambda layer's call (tf.nn.convolution_87), but are not present in its tracked objects:   <tf.Variable 'res4d_branch2a/kernel:0' shape=(1, 1, 1024, 256) dtype=float32>. This is a strong indication that the Lambda layer should be rewritten as a subclassed Layer.\n",
            "WARNING:tensorflow:The following Variables were used in a Lambda layer's call (tf.nn.bias_add_87), but are not present in its tracked objects:   <tf.Variable 'res4d_branch2a/bias:0' shape=(256,) dtype=float32>. This is a strong indication that the Lambda layer should be rewritten as a subclassed Layer.\n",
            "WARNING:tensorflow:The following Variables were used in a Lambda layer's call (tf.nn.convolution_88), but are not present in its tracked objects:   <tf.Variable 'res4d_branch2b/kernel:0' shape=(3, 3, 256, 256) dtype=float32>. This is a strong indication that the Lambda layer should be rewritten as a subclassed Layer.\n",
            "WARNING:tensorflow:The following Variables were used in a Lambda layer's call (tf.nn.bias_add_88), but are not present in its tracked objects:   <tf.Variable 'res4d_branch2b/bias:0' shape=(256,) dtype=float32>. This is a strong indication that the Lambda layer should be rewritten as a subclassed Layer.\n",
            "WARNING:tensorflow:The following Variables were used in a Lambda layer's call (tf.nn.convolution_89), but are not present in its tracked objects:   <tf.Variable 'res4d_branch2c/kernel:0' shape=(1, 1, 256, 1024) dtype=float32>. This is a strong indication that the Lambda layer should be rewritten as a subclassed Layer.\n",
            "WARNING:tensorflow:The following Variables were used in a Lambda layer's call (tf.nn.bias_add_89), but are not present in its tracked objects:   <tf.Variable 'res4d_branch2c/bias:0' shape=(1024,) dtype=float32>. This is a strong indication that the Lambda layer should be rewritten as a subclassed Layer.\n",
            "WARNING:tensorflow:The following Variables were used in a Lambda layer's call (tf.nn.convolution_90), but are not present in its tracked objects:   <tf.Variable 'res4e_branch2a/kernel:0' shape=(1, 1, 1024, 256) dtype=float32>. This is a strong indication that the Lambda layer should be rewritten as a subclassed Layer.\n",
            "WARNING:tensorflow:The following Variables were used in a Lambda layer's call (tf.nn.bias_add_90), but are not present in its tracked objects:   <tf.Variable 'res4e_branch2a/bias:0' shape=(256,) dtype=float32>. This is a strong indication that the Lambda layer should be rewritten as a subclassed Layer.\n",
            "WARNING:tensorflow:The following Variables were used in a Lambda layer's call (tf.nn.convolution_91), but are not present in its tracked objects:   <tf.Variable 'res4e_branch2b/kernel:0' shape=(3, 3, 256, 256) dtype=float32>. This is a strong indication that the Lambda layer should be rewritten as a subclassed Layer.\n",
            "WARNING:tensorflow:The following Variables were used in a Lambda layer's call (tf.nn.bias_add_91), but are not present in its tracked objects:   <tf.Variable 'res4e_branch2b/bias:0' shape=(256,) dtype=float32>. This is a strong indication that the Lambda layer should be rewritten as a subclassed Layer.\n",
            "WARNING:tensorflow:The following Variables were used in a Lambda layer's call (tf.nn.convolution_92), but are not present in its tracked objects:   <tf.Variable 'res4e_branch2c/kernel:0' shape=(1, 1, 256, 1024) dtype=float32>. This is a strong indication that the Lambda layer should be rewritten as a subclassed Layer.\n",
            "WARNING:tensorflow:The following Variables were used in a Lambda layer's call (tf.nn.bias_add_92), but are not present in its tracked objects:   <tf.Variable 'res4e_branch2c/bias:0' shape=(1024,) dtype=float32>. This is a strong indication that the Lambda layer should be rewritten as a subclassed Layer.\n",
            "WARNING:tensorflow:The following Variables were used in a Lambda layer's call (tf.nn.convolution_93), but are not present in its tracked objects:   <tf.Variable 'res4f_branch2a/kernel:0' shape=(1, 1, 1024, 256) dtype=float32>. This is a strong indication that the Lambda layer should be rewritten as a subclassed Layer.\n",
            "WARNING:tensorflow:The following Variables were used in a Lambda layer's call (tf.nn.bias_add_93), but are not present in its tracked objects:   <tf.Variable 'res4f_branch2a/bias:0' shape=(256,) dtype=float32>. This is a strong indication that the Lambda layer should be rewritten as a subclassed Layer.\n",
            "WARNING:tensorflow:The following Variables were used in a Lambda layer's call (tf.nn.convolution_94), but are not present in its tracked objects:   <tf.Variable 'res4f_branch2b/kernel:0' shape=(3, 3, 256, 256) dtype=float32>. This is a strong indication that the Lambda layer should be rewritten as a subclassed Layer.\n",
            "WARNING:tensorflow:The following Variables were used in a Lambda layer's call (tf.nn.bias_add_94), but are not present in its tracked objects:   <tf.Variable 'res4f_branch2b/bias:0' shape=(256,) dtype=float32>. This is a strong indication that the Lambda layer should be rewritten as a subclassed Layer.\n",
            "WARNING:tensorflow:The following Variables were used in a Lambda layer's call (tf.nn.convolution_95), but are not present in its tracked objects:   <tf.Variable 'res4f_branch2c/kernel:0' shape=(1, 1, 256, 1024) dtype=float32>. This is a strong indication that the Lambda layer should be rewritten as a subclassed Layer.\n",
            "WARNING:tensorflow:The following Variables were used in a Lambda layer's call (tf.nn.bias_add_95), but are not present in its tracked objects:   <tf.Variable 'res4f_branch2c/bias:0' shape=(1024,) dtype=float32>. This is a strong indication that the Lambda layer should be rewritten as a subclassed Layer.\n",
            "WARNING:tensorflow:The following Variables were used in a Lambda layer's call (tf.nn.convolution_96), but are not present in its tracked objects:   <tf.Variable 'res5a_branch2a/kernel:0' shape=(1, 1, 1024, 512) dtype=float32>. This is a strong indication that the Lambda layer should be rewritten as a subclassed Layer.\n",
            "WARNING:tensorflow:The following Variables were used in a Lambda layer's call (tf.nn.bias_add_96), but are not present in its tracked objects:   <tf.Variable 'res5a_branch2a/bias:0' shape=(512,) dtype=float32>. This is a strong indication that the Lambda layer should be rewritten as a subclassed Layer.\n",
            "WARNING:tensorflow:The following Variables were used in a Lambda layer's call (tf.nn.convolution_97), but are not present in its tracked objects:   <tf.Variable 'res5a_branch2b/kernel:0' shape=(3, 3, 512, 512) dtype=float32>. This is a strong indication that the Lambda layer should be rewritten as a subclassed Layer.\n",
            "WARNING:tensorflow:The following Variables were used in a Lambda layer's call (tf.nn.bias_add_97), but are not present in its tracked objects:   <tf.Variable 'res5a_branch2b/bias:0' shape=(512,) dtype=float32>. This is a strong indication that the Lambda layer should be rewritten as a subclassed Layer.\n",
            "WARNING:tensorflow:The following Variables were used in a Lambda layer's call (tf.nn.convolution_98), but are not present in its tracked objects:   <tf.Variable 'res5a_branch2c/kernel:0' shape=(1, 1, 512, 2048) dtype=float32>. This is a strong indication that the Lambda layer should be rewritten as a subclassed Layer.\n",
            "WARNING:tensorflow:The following Variables were used in a Lambda layer's call (tf.nn.bias_add_98), but are not present in its tracked objects:   <tf.Variable 'res5a_branch2c/bias:0' shape=(2048,) dtype=float32>. This is a strong indication that the Lambda layer should be rewritten as a subclassed Layer.\n",
            "WARNING:tensorflow:The following Variables were used in a Lambda layer's call (tf.nn.convolution_99), but are not present in its tracked objects:   <tf.Variable 'res5a_branch1/kernel:0' shape=(1, 1, 1024, 2048) dtype=float32>. This is a strong indication that the Lambda layer should be rewritten as a subclassed Layer.\n",
            "WARNING:tensorflow:The following Variables were used in a Lambda layer's call (tf.nn.bias_add_99), but are not present in its tracked objects:   <tf.Variable 'res5a_branch1/bias:0' shape=(2048,) dtype=float32>. This is a strong indication that the Lambda layer should be rewritten as a subclassed Layer.\n",
            "WARNING:tensorflow:The following Variables were used in a Lambda layer's call (tf.nn.convolution_100), but are not present in its tracked objects:   <tf.Variable 'res5b_branch2a/kernel:0' shape=(1, 1, 2048, 512) dtype=float32>. This is a strong indication that the Lambda layer should be rewritten as a subclassed Layer.\n",
            "WARNING:tensorflow:The following Variables were used in a Lambda layer's call (tf.nn.bias_add_100), but are not present in its tracked objects:   <tf.Variable 'res5b_branch2a/bias:0' shape=(512,) dtype=float32>. This is a strong indication that the Lambda layer should be rewritten as a subclassed Layer.\n",
            "WARNING:tensorflow:The following Variables were used in a Lambda layer's call (tf.nn.convolution_101), but are not present in its tracked objects:   <tf.Variable 'res5b_branch2b/kernel:0' shape=(3, 3, 512, 512) dtype=float32>. This is a strong indication that the Lambda layer should be rewritten as a subclassed Layer.\n",
            "WARNING:tensorflow:The following Variables were used in a Lambda layer's call (tf.nn.bias_add_101), but are not present in its tracked objects:   <tf.Variable 'res5b_branch2b/bias:0' shape=(512,) dtype=float32>. This is a strong indication that the Lambda layer should be rewritten as a subclassed Layer.\n",
            "WARNING:tensorflow:The following Variables were used in a Lambda layer's call (tf.nn.convolution_102), but are not present in its tracked objects:   <tf.Variable 'res5b_branch2c/kernel:0' shape=(1, 1, 512, 2048) dtype=float32>. This is a strong indication that the Lambda layer should be rewritten as a subclassed Layer.\n",
            "WARNING:tensorflow:The following Variables were used in a Lambda layer's call (tf.nn.bias_add_102), but are not present in its tracked objects:   <tf.Variable 'res5b_branch2c/bias:0' shape=(2048,) dtype=float32>. This is a strong indication that the Lambda layer should be rewritten as a subclassed Layer.\n",
            "WARNING:tensorflow:The following Variables were used in a Lambda layer's call (tf.nn.convolution_103), but are not present in its tracked objects:   <tf.Variable 'res5c_branch2a/kernel:0' shape=(1, 1, 2048, 512) dtype=float32>. This is a strong indication that the Lambda layer should be rewritten as a subclassed Layer.\n",
            "WARNING:tensorflow:The following Variables were used in a Lambda layer's call (tf.nn.bias_add_103), but are not present in its tracked objects:   <tf.Variable 'res5c_branch2a/bias:0' shape=(512,) dtype=float32>. This is a strong indication that the Lambda layer should be rewritten as a subclassed Layer.\n",
            "WARNING:tensorflow:The following Variables were used in a Lambda layer's call (tf.nn.convolution_104), but are not present in its tracked objects:   <tf.Variable 'res5c_branch2b/kernel:0' shape=(3, 3, 512, 512) dtype=float32>. This is a strong indication that the Lambda layer should be rewritten as a subclassed Layer.\n",
            "WARNING:tensorflow:The following Variables were used in a Lambda layer's call (tf.nn.bias_add_104), but are not present in its tracked objects:   <tf.Variable 'res5c_branch2b/bias:0' shape=(512,) dtype=float32>. This is a strong indication that the Lambda layer should be rewritten as a subclassed Layer.\n",
            "WARNING:tensorflow:The following Variables were used in a Lambda layer's call (tf.nn.convolution_105), but are not present in its tracked objects:   <tf.Variable 'res5c_branch2c/kernel:0' shape=(1, 1, 512, 2048) dtype=float32>. This is a strong indication that the Lambda layer should be rewritten as a subclassed Layer.\n",
            "WARNING:tensorflow:The following Variables were used in a Lambda layer's call (tf.nn.bias_add_105), but are not present in its tracked objects:   <tf.Variable 'res5c_branch2c/bias:0' shape=(2048,) dtype=float32>. This is a strong indication that the Lambda layer should be rewritten as a subclassed Layer.\n"
          ]
        }
      ]
    },
    {
      "cell_type": "code",
      "source": [
        "model.compile(\n",
        "    optimizer='adam',\n",
        "    loss=tf.keras.losses.SparseCategoricalCrossentropy(from_logits=True),\n",
        "    metrics=[\"accuracy\"])\n",
        "\n",
        "history = model.fit(x=tf.convert_to_tensor(train_data_scaled), y=tf.convert_to_tensor(y_train_labels),\n",
        "                    validation_data=(tf.convert_to_tensor(test_data_scaled), tf.convert_to_tensor(y_test_labels)),\n",
        "                    epochs=100, verbose=1)"
      ],
      "metadata": {
        "colab": {
          "base_uri": "https://localhost:8080/"
        },
        "id": "e-zQpr7mAIfi",
        "outputId": "fa7f2cf0-d968-4d12-91fd-3e7c75e8595a"
      },
      "execution_count": 29,
      "outputs": [
        {
          "output_type": "stream",
          "name": "stdout",
          "text": [
            "Epoch 1/100\n",
            "312/312 [==============================] - 135s 373ms/step - loss: 6.5459 - accuracy: 0.2671 - val_loss: 2.9094 - val_accuracy: 0.2304\n",
            "Epoch 2/100\n",
            "312/312 [==============================] - 115s 368ms/step - loss: 1.7421 - accuracy: 0.3841 - val_loss: 1.8377 - val_accuracy: 0.3522\n",
            "Epoch 3/100\n",
            "312/312 [==============================] - 115s 368ms/step - loss: 1.2765 - accuracy: 0.4644 - val_loss: 1.2648 - val_accuracy: 0.4439\n",
            "Epoch 4/100\n",
            "312/312 [==============================] - 115s 368ms/step - loss: 1.0076 - accuracy: 0.5530 - val_loss: 2.3541 - val_accuracy: 0.3261\n",
            "Epoch 5/100\n",
            "312/312 [==============================] - 115s 368ms/step - loss: 0.9550 - accuracy: 0.5790 - val_loss: 1.9416 - val_accuracy: 0.4077\n",
            "Epoch 6/100\n",
            "312/312 [==============================] - 115s 368ms/step - loss: 0.7624 - accuracy: 0.6630 - val_loss: 1.1617 - val_accuracy: 0.5239\n",
            "Epoch 7/100\n",
            "312/312 [==============================] - 115s 368ms/step - loss: 0.6087 - accuracy: 0.7330 - val_loss: 1.0407 - val_accuracy: 0.5601\n",
            "Epoch 8/100\n",
            "312/312 [==============================] - 115s 368ms/step - loss: 0.4955 - accuracy: 0.7839 - val_loss: 1.1367 - val_accuracy: 0.5573\n",
            "Epoch 9/100\n",
            "312/312 [==============================] - 115s 368ms/step - loss: 0.4127 - accuracy: 0.8228 - val_loss: 0.9029 - val_accuracy: 0.6522\n",
            "Epoch 10/100\n",
            "312/312 [==============================] - 115s 367ms/step - loss: 0.3745 - accuracy: 0.8366 - val_loss: 1.1441 - val_accuracy: 0.6265\n",
            "Epoch 11/100\n",
            "312/312 [==============================] - 115s 367ms/step - loss: 0.3100 - accuracy: 0.8676 - val_loss: 1.1169 - val_accuracy: 0.6582\n",
            "Epoch 12/100\n",
            "312/312 [==============================] - 115s 368ms/step - loss: 0.2135 - accuracy: 0.9114 - val_loss: 1.0081 - val_accuracy: 0.6992\n",
            "Epoch 13/100\n",
            "312/312 [==============================] - 115s 367ms/step - loss: 0.2313 - accuracy: 0.9068 - val_loss: 0.9568 - val_accuracy: 0.6956\n",
            "Epoch 14/100\n",
            "312/312 [==============================] - 115s 367ms/step - loss: 0.1828 - accuracy: 0.9255 - val_loss: 0.8670 - val_accuracy: 0.7189\n",
            "Epoch 15/100\n",
            "312/312 [==============================] - 115s 367ms/step - loss: 0.1554 - accuracy: 0.9397 - val_loss: 1.0896 - val_accuracy: 0.6876\n",
            "Epoch 16/100\n",
            "312/312 [==============================] - 115s 367ms/step - loss: 0.1400 - accuracy: 0.9474 - val_loss: 2.1544 - val_accuracy: 0.6244\n",
            "Epoch 17/100\n",
            "312/312 [==============================] - 115s 367ms/step - loss: 0.1277 - accuracy: 0.9536 - val_loss: 2.3812 - val_accuracy: 0.6482\n",
            "Epoch 18/100\n",
            "312/312 [==============================] - 114s 367ms/step - loss: 0.1219 - accuracy: 0.9562 - val_loss: 0.9624 - val_accuracy: 0.7431\n",
            "Epoch 19/100\n",
            "312/312 [==============================] - 114s 367ms/step - loss: 0.1060 - accuracy: 0.9623 - val_loss: 1.9199 - val_accuracy: 0.6606\n",
            "Epoch 20/100\n",
            "312/312 [==============================] - 115s 368ms/step - loss: 0.0955 - accuracy: 0.9658 - val_loss: 1.7539 - val_accuracy: 0.6739\n",
            "Epoch 21/100\n",
            "312/312 [==============================] - 114s 367ms/step - loss: 0.0851 - accuracy: 0.9686 - val_loss: 0.8225 - val_accuracy: 0.7877\n",
            "Epoch 22/100\n",
            "312/312 [==============================] - 114s 367ms/step - loss: 0.0872 - accuracy: 0.9664 - val_loss: 2.0391 - val_accuracy: 0.7109\n",
            "Epoch 23/100\n",
            "312/312 [==============================] - 114s 367ms/step - loss: 0.0790 - accuracy: 0.9709 - val_loss: 1.0953 - val_accuracy: 0.7535\n",
            "Epoch 24/100\n",
            "312/312 [==============================] - 114s 367ms/step - loss: 0.0716 - accuracy: 0.9754 - val_loss: 1.0268 - val_accuracy: 0.7587\n",
            "Epoch 25/100\n",
            "312/312 [==============================] - 114s 367ms/step - loss: 0.0766 - accuracy: 0.9736 - val_loss: 2.0081 - val_accuracy: 0.6602\n",
            "Epoch 26/100\n",
            "312/312 [==============================] - 114s 367ms/step - loss: 0.0733 - accuracy: 0.9755 - val_loss: 1.4048 - val_accuracy: 0.7407\n",
            "Epoch 27/100\n",
            "312/312 [==============================] - 114s 367ms/step - loss: 0.0593 - accuracy: 0.9792 - val_loss: 1.4684 - val_accuracy: 0.7411\n",
            "Epoch 28/100\n",
            "312/312 [==============================] - 114s 366ms/step - loss: 0.0546 - accuracy: 0.9817 - val_loss: 1.6257 - val_accuracy: 0.6956\n",
            "Epoch 29/100\n",
            "312/312 [==============================] - 114s 366ms/step - loss: 0.0660 - accuracy: 0.9789 - val_loss: 1.4281 - val_accuracy: 0.7370\n",
            "Epoch 30/100\n",
            "312/312 [==============================] - 114s 367ms/step - loss: 0.0891 - accuracy: 0.9693 - val_loss: 1.0875 - val_accuracy: 0.7640\n",
            "Epoch 31/100\n",
            "312/312 [==============================] - 114s 367ms/step - loss: 0.0406 - accuracy: 0.9843 - val_loss: 1.0270 - val_accuracy: 0.7809\n",
            "Epoch 32/100\n",
            "312/312 [==============================] - 114s 366ms/step - loss: 0.0572 - accuracy: 0.9791 - val_loss: 1.2220 - val_accuracy: 0.7776\n",
            "Epoch 33/100\n",
            "312/312 [==============================] - 114s 367ms/step - loss: 0.0538 - accuracy: 0.9820 - val_loss: 1.1333 - val_accuracy: 0.7483\n",
            "Epoch 34/100\n",
            "312/312 [==============================] - 114s 367ms/step - loss: 0.0243 - accuracy: 0.9909 - val_loss: 1.0129 - val_accuracy: 0.7925\n",
            "Epoch 35/100\n",
            "312/312 [==============================] - 114s 367ms/step - loss: 0.0709 - accuracy: 0.9788 - val_loss: 1.5151 - val_accuracy: 0.7479\n",
            "Epoch 36/100\n",
            "312/312 [==============================] - 114s 367ms/step - loss: 0.0490 - accuracy: 0.9840 - val_loss: 1.2181 - val_accuracy: 0.7889\n",
            "Epoch 37/100\n",
            "312/312 [==============================] - 115s 367ms/step - loss: 0.0650 - accuracy: 0.9789 - val_loss: 1.0616 - val_accuracy: 0.7933\n",
            "Epoch 38/100\n",
            "312/312 [==============================] - 115s 367ms/step - loss: 0.0297 - accuracy: 0.9896 - val_loss: 1.2411 - val_accuracy: 0.7797\n",
            "Epoch 39/100\n",
            "312/312 [==============================] - 115s 367ms/step - loss: 0.0472 - accuracy: 0.9842 - val_loss: 1.6446 - val_accuracy: 0.7314\n",
            "Epoch 40/100\n",
            "312/312 [==============================] - 115s 367ms/step - loss: 0.0267 - accuracy: 0.9907 - val_loss: 1.5176 - val_accuracy: 0.7708\n",
            "Epoch 41/100\n",
            "312/312 [==============================] - 114s 367ms/step - loss: 0.0759 - accuracy: 0.9723 - val_loss: 1.7224 - val_accuracy: 0.7467\n",
            "Epoch 42/100\n",
            "312/312 [==============================] - 114s 367ms/step - loss: 0.0429 - accuracy: 0.9855 - val_loss: 1.0173 - val_accuracy: 0.7861\n",
            "Epoch 43/100\n",
            "312/312 [==============================] - 114s 367ms/step - loss: 0.0302 - accuracy: 0.9892 - val_loss: 1.3198 - val_accuracy: 0.7604\n",
            "Epoch 44/100\n",
            "312/312 [==============================] - 114s 367ms/step - loss: 0.0539 - accuracy: 0.9832 - val_loss: 1.3412 - val_accuracy: 0.8002\n",
            "Epoch 45/100\n",
            "312/312 [==============================] - 114s 367ms/step - loss: 0.0291 - accuracy: 0.9902 - val_loss: 1.0093 - val_accuracy: 0.8183\n",
            "Epoch 46/100\n",
            "312/312 [==============================] - 114s 367ms/step - loss: 0.0390 - accuracy: 0.9872 - val_loss: 1.4243 - val_accuracy: 0.7768\n",
            "Epoch 47/100\n",
            "312/312 [==============================] - 114s 367ms/step - loss: 0.0309 - accuracy: 0.9890 - val_loss: 1.4939 - val_accuracy: 0.7684\n",
            "Epoch 48/100\n",
            "312/312 [==============================] - 114s 367ms/step - loss: 0.0285 - accuracy: 0.9899 - val_loss: 2.0964 - val_accuracy: 0.6888\n",
            "Epoch 49/100\n",
            "312/312 [==============================] - 115s 367ms/step - loss: 0.0538 - accuracy: 0.9820 - val_loss: 1.3234 - val_accuracy: 0.7793\n",
            "Epoch 50/100\n",
            "312/312 [==============================] - 114s 367ms/step - loss: 0.0364 - accuracy: 0.9872 - val_loss: 1.6430 - val_accuracy: 0.7511\n",
            "Epoch 51/100\n",
            "312/312 [==============================] - 114s 367ms/step - loss: 0.0666 - accuracy: 0.9798 - val_loss: 1.1345 - val_accuracy: 0.7949\n",
            "Epoch 52/100\n",
            "312/312 [==============================] - 114s 367ms/step - loss: 0.0241 - accuracy: 0.9925 - val_loss: 1.6195 - val_accuracy: 0.7326\n",
            "Epoch 53/100\n",
            "312/312 [==============================] - 115s 367ms/step - loss: 0.0124 - accuracy: 0.9962 - val_loss: 1.2166 - val_accuracy: 0.7833\n",
            "Epoch 54/100\n",
            "312/312 [==============================] - 114s 367ms/step - loss: 0.0212 - accuracy: 0.9927 - val_loss: 2.1154 - val_accuracy: 0.7302\n",
            "Epoch 55/100\n",
            "312/312 [==============================] - 114s 367ms/step - loss: 0.0239 - accuracy: 0.9929 - val_loss: 1.5709 - val_accuracy: 0.7672\n",
            "Epoch 56/100\n",
            "312/312 [==============================] - 114s 367ms/step - loss: 0.0440 - accuracy: 0.9854 - val_loss: 2.1384 - val_accuracy: 0.7025\n",
            "Epoch 57/100\n",
            "312/312 [==============================] - 115s 367ms/step - loss: 0.0273 - accuracy: 0.9903 - val_loss: 1.2094 - val_accuracy: 0.7821\n",
            "Epoch 58/100\n",
            "312/312 [==============================] - 115s 367ms/step - loss: 0.0298 - accuracy: 0.9901 - val_loss: 1.2997 - val_accuracy: 0.7990\n",
            "Epoch 59/100\n",
            "312/312 [==============================] - 115s 367ms/step - loss: 0.0260 - accuracy: 0.9923 - val_loss: 1.7894 - val_accuracy: 0.7467\n",
            "Epoch 60/100\n",
            "312/312 [==============================] - 114s 367ms/step - loss: 0.0396 - accuracy: 0.9868 - val_loss: 1.5481 - val_accuracy: 0.7704\n",
            "Epoch 61/100\n",
            "312/312 [==============================] - 114s 367ms/step - loss: 0.0279 - accuracy: 0.9921 - val_loss: 1.6396 - val_accuracy: 0.7616\n",
            "Epoch 62/100\n",
            "312/312 [==============================] - 115s 367ms/step - loss: 0.0100 - accuracy: 0.9966 - val_loss: 1.6434 - val_accuracy: 0.7660\n",
            "Epoch 63/100\n",
            "312/312 [==============================] - 115s 367ms/step - loss: 0.0127 - accuracy: 0.9954 - val_loss: 1.3618 - val_accuracy: 0.7953\n",
            "Epoch 64/100\n",
            "312/312 [==============================] - 115s 367ms/step - loss: 0.0291 - accuracy: 0.9921 - val_loss: 1.0665 - val_accuracy: 0.8106\n",
            "Epoch 65/100\n",
            "312/312 [==============================] - 114s 367ms/step - loss: 0.0639 - accuracy: 0.9793 - val_loss: 1.8115 - val_accuracy: 0.7551\n",
            "Epoch 66/100\n",
            "312/312 [==============================] - 114s 367ms/step - loss: 0.0125 - accuracy: 0.9959 - val_loss: 2.2672 - val_accuracy: 0.7415\n",
            "Epoch 67/100\n",
            "312/312 [==============================] - 115s 367ms/step - loss: 0.0252 - accuracy: 0.9907 - val_loss: 1.1290 - val_accuracy: 0.8203\n",
            "Epoch 68/100\n",
            "312/312 [==============================] - 114s 367ms/step - loss: 0.0114 - accuracy: 0.9961 - val_loss: 1.2448 - val_accuracy: 0.7998\n",
            "Epoch 69/100\n",
            "312/312 [==============================] - 114s 367ms/step - loss: 0.0210 - accuracy: 0.9929 - val_loss: 1.3523 - val_accuracy: 0.8170\n",
            "Epoch 70/100\n",
            "312/312 [==============================] - 115s 367ms/step - loss: 0.0358 - accuracy: 0.9891 - val_loss: 1.7049 - val_accuracy: 0.7648\n",
            "Epoch 71/100\n",
            "312/312 [==============================] - 114s 367ms/step - loss: 0.0267 - accuracy: 0.9913 - val_loss: 1.0166 - val_accuracy: 0.8002\n",
            "Epoch 72/100\n",
            "312/312 [==============================] - 115s 367ms/step - loss: 0.0192 - accuracy: 0.9931 - val_loss: 1.8001 - val_accuracy: 0.7789\n",
            "Epoch 73/100\n",
            "312/312 [==============================] - 114s 367ms/step - loss: 0.0226 - accuracy: 0.9932 - val_loss: 0.9880 - val_accuracy: 0.8050\n",
            "Epoch 74/100\n",
            "312/312 [==============================] - 114s 367ms/step - loss: 0.0451 - accuracy: 0.9870 - val_loss: 0.9536 - val_accuracy: 0.8223\n",
            "Epoch 75/100\n",
            "312/312 [==============================] - 115s 368ms/step - loss: 0.0204 - accuracy: 0.9937 - val_loss: 1.3151 - val_accuracy: 0.7833\n",
            "Epoch 76/100\n",
            "312/312 [==============================] - 114s 367ms/step - loss: 0.0118 - accuracy: 0.9958 - val_loss: 1.7069 - val_accuracy: 0.7768\n",
            "Epoch 77/100\n",
            "312/312 [==============================] - 114s 367ms/step - loss: 0.0304 - accuracy: 0.9907 - val_loss: 1.3751 - val_accuracy: 0.8090\n",
            "Epoch 78/100\n",
            "312/312 [==============================] - 115s 367ms/step - loss: 0.0122 - accuracy: 0.9964 - val_loss: 1.5534 - val_accuracy: 0.7998\n",
            "Epoch 79/100\n",
            "312/312 [==============================] - 115s 367ms/step - loss: 0.0173 - accuracy: 0.9950 - val_loss: 1.1755 - val_accuracy: 0.8090\n",
            "Epoch 80/100\n",
            "312/312 [==============================] - 115s 367ms/step - loss: 0.0159 - accuracy: 0.9945 - val_loss: 1.5437 - val_accuracy: 0.8179\n",
            "Epoch 81/100\n",
            "312/312 [==============================] - 115s 367ms/step - loss: 0.0266 - accuracy: 0.9920 - val_loss: 0.9413 - val_accuracy: 0.8315\n",
            "Epoch 82/100\n",
            "312/312 [==============================] - 115s 367ms/step - loss: 0.0245 - accuracy: 0.9909 - val_loss: 1.3988 - val_accuracy: 0.7732\n",
            "Epoch 83/100\n",
            "312/312 [==============================] - 115s 367ms/step - loss: 0.0373 - accuracy: 0.9885 - val_loss: 1.0194 - val_accuracy: 0.8106\n",
            "Epoch 84/100\n",
            "312/312 [==============================] - 114s 367ms/step - loss: 0.0185 - accuracy: 0.9948 - val_loss: 1.1421 - val_accuracy: 0.8315\n",
            "Epoch 85/100\n",
            "312/312 [==============================] - 115s 367ms/step - loss: 0.0386 - accuracy: 0.9885 - val_loss: 1.6430 - val_accuracy: 0.7696\n",
            "Epoch 86/100\n",
            "312/312 [==============================] - 115s 367ms/step - loss: 0.0069 - accuracy: 0.9976 - val_loss: 1.8049 - val_accuracy: 0.7479\n",
            "Epoch 87/100\n",
            "312/312 [==============================] - 114s 367ms/step - loss: 0.0317 - accuracy: 0.9916 - val_loss: 2.1713 - val_accuracy: 0.7439\n",
            "Epoch 88/100\n",
            "312/312 [==============================] - 115s 367ms/step - loss: 0.0329 - accuracy: 0.9913 - val_loss: 1.1700 - val_accuracy: 0.8130\n",
            "Epoch 89/100\n",
            "312/312 [==============================] - 115s 367ms/step - loss: 0.0079 - accuracy: 0.9970 - val_loss: 1.5568 - val_accuracy: 0.7648\n",
            "Epoch 90/100\n",
            "312/312 [==============================] - 114s 367ms/step - loss: 0.0145 - accuracy: 0.9956 - val_loss: 1.0878 - val_accuracy: 0.8339\n",
            "Epoch 91/100\n",
            "312/312 [==============================] - 114s 367ms/step - loss: 0.0093 - accuracy: 0.9976 - val_loss: 1.6080 - val_accuracy: 0.7853\n",
            "Epoch 92/100\n",
            "312/312 [==============================] - 114s 367ms/step - loss: 0.0247 - accuracy: 0.9931 - val_loss: 1.4272 - val_accuracy: 0.7949\n",
            "Epoch 93/100\n",
            "312/312 [==============================] - 114s 367ms/step - loss: 0.0083 - accuracy: 0.9976 - val_loss: 3.1117 - val_accuracy: 0.7105\n",
            "Epoch 94/100\n",
            "312/312 [==============================] - 115s 367ms/step - loss: 0.0109 - accuracy: 0.9962 - val_loss: 3.8786 - val_accuracy: 0.6771\n",
            "Epoch 95/100\n",
            "312/312 [==============================] - 114s 367ms/step - loss: 0.0148 - accuracy: 0.9955 - val_loss: 1.8202 - val_accuracy: 0.7459\n",
            "Epoch 96/100\n",
            "312/312 [==============================] - 114s 367ms/step - loss: 0.0199 - accuracy: 0.9935 - val_loss: 1.1292 - val_accuracy: 0.8279\n",
            "Epoch 97/100\n",
            "312/312 [==============================] - 114s 367ms/step - loss: 0.0080 - accuracy: 0.9980 - val_loss: 1.2047 - val_accuracy: 0.7929\n",
            "Epoch 98/100\n",
            "312/312 [==============================] - 114s 367ms/step - loss: 0.0175 - accuracy: 0.9956 - val_loss: 1.4301 - val_accuracy: 0.7587\n",
            "Epoch 99/100\n",
            "312/312 [==============================] - 115s 367ms/step - loss: 0.0141 - accuracy: 0.9958 - val_loss: 2.0536 - val_accuracy: 0.7712\n",
            "Epoch 100/100\n",
            "312/312 [==============================] - 115s 367ms/step - loss: 0.0289 - accuracy: 0.9928 - val_loss: 1.2906 - val_accuracy: 0.7793\n"
          ]
        }
      ]
    },
    {
      "cell_type": "code",
      "source": [
        "# Display the accuracy and loss for each epoch\n",
        "import matplotlib.pyplot as plt\n",
        "fig, ax = plt.subplots(1,2)\n",
        "fig.set_figheight(5)\n",
        "fig.set_figwidth(10)\n",
        "ax[0].plot(history.history['accuracy'])\n",
        "ax[0].plot(history.history['val_accuracy'])\n",
        "ax[0].title.set_text('model accuracy')\n",
        "ax[0].set_ylabel('accuracy')\n",
        "ax[0].set_xlabel('epoch')\n",
        "ax[0].legend(['train', \"test\"], loc='upper left')\n",
        "\n",
        "\n",
        "ax[1].plot(history.history['loss'])\n",
        "ax[1].plot(history.history['val_loss'])\n",
        "ax[1].title.set_text('model loss')\n",
        "ax[1].set_ylabel('loss')\n",
        "ax[1].set_xlabel('epoch')\n",
        "ax[1].legend(['train', \"test\"], loc='upper left')"
      ],
      "metadata": {
        "colab": {
          "base_uri": "https://localhost:8080/",
          "height": 504
        },
        "id": "x0T3REx_erGI",
        "outputId": "3bacfbc4-90fa-4d12-ca13-9f325fa73fb4"
      },
      "execution_count": 34,
      "outputs": [
        {
          "output_type": "execute_result",
          "data": {
            "text/plain": [
              "<matplotlib.legend.Legend at 0x7dfed3abe110>"
            ]
          },
          "metadata": {},
          "execution_count": 34
        },
        {
          "output_type": "display_data",
          "data": {
            "text/plain": [
              "<Figure size 1000x500 with 2 Axes>"
            ],
            "image/png": "[encoded data removed]"
          },
          "metadata": {}
        }
      ]
    }
  ]
}